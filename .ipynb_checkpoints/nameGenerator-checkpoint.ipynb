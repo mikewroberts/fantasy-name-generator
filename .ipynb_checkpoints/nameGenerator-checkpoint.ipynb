{
 "cells": [
  {
   "cell_type": "code",
   "execution_count": 2,
   "metadata": {
    "collapsed": true
   },
   "outputs": [],
   "source": [
    "import random\n",
    "import numpy"
   ]
  },
  {
   "cell_type": "code",
   "execution_count": 173,
   "metadata": {},
   "outputs": [
    {
     "name": "stdout",
     "output_type": "stream",
     "text": [
      "21\n",
      "6\n"
     ]
    }
   ],
   "source": [
    "consonants = [\"b\",\"c\",\"d\",\"f\",\"g\",\"h\",\"j\",\"k\",\"l\",\"m\",\"n\",\"p\",\"\",\"r\",\"s\",\"t\",\"v\",\"w\",\"\",\"y\",\"z\"]\n",
    "vowels = [\"a\",\"e\",\"i\",\"o\",\"u\",\"\"]\n",
    "\n",
    "print(len(consonants))\n",
    "print(len(vowels))"
   ]
  },
  {
   "cell_type": "markdown",
   "metadata": {},
   "source": [
    "Concept: \n",
    "\n",
    "1. Create randomly sized range of numbers to use for consonants (maybe 4-7)\n",
    "\n",
    "2. Randomly select letters from array using random indexing. \n",
    "\n",
    "3. Randomize beginning and end of name starting/ending with vowels or not, then roll vowels.\n",
    "\n",
    "4. Randomly select vowels for spaces in between consonants (or not sometimes)\n",
    "\n",
    "5. Hopefully it's pronouncable. Might have to add rules in error checking or something if weird combos show up.\n",
    "\n",
    "Stretch Goals:\n",
    "\n",
    "1. Add ability for user to input a segment of characters that will be used in the name. \n",
    "    ie: user input = \"terra\" output = \"terrathicus\" or \"arterran\" etc.\n",
    "    \n",
    "2. Add GUI"
   ]
  },
  {
   "cell_type": "code",
   "execution_count": 222,
   "metadata": {},
   "outputs": [
    {
     "name": "stdout",
     "output_type": "stream",
     "text": [
      "wb\n"
     ]
    }
   ],
   "source": [
    "## STEP 1 : random consonants\n",
    "\n",
    "name = \"\"\n",
    "\n",
    "number_of_consonants = random.randrange(3,8) \n",
    "\n",
    "for i in range(0,number_of_consonants):\n",
    "    name += random.choice(consonants)\n",
    "\n",
    "print(name)"
   ]
  },
  {
   "cell_type": "code",
   "execution_count": 223,
   "metadata": {},
   "outputs": [
    {
     "name": "stdout",
     "output_type": "stream",
     "text": [
      "wub\n"
     ]
    }
   ],
   "source": [
    "## STEP 2 : add vowels in between\n",
    "\n",
    "length_of_name = len(name)-1\n",
    "\n",
    "for i in range(length_of_name, 0, -1):\n",
    "    if(random.randint(1,10) < 8):\n",
    "        name = name[:i] + random.choice(vowels) + name[i:]\n",
    "\n",
    "        \n",
    "print(name)\n",
    "\n",
    "## THAT DIDNT EVEN COME CLOSE TRY AGAIN"
   ]
  },
  {
   "cell_type": "code",
   "execution_count": null,
   "metadata": {
    "collapsed": true
   },
   "outputs": [],
   "source": [
    "## STEP 3 : add vowels at beginning and/or end (maybe)\n",
    "\n"
   ]
  }
 ],
 "metadata": {
  "kernelspec": {
   "display_name": "Python 3",
   "language": "python",
   "name": "python3"
  },
  "language_info": {
   "codemirror_mode": {
    "name": "ipython",
    "version": 3
   },
   "file_extension": ".py",
   "mimetype": "text/x-python",
   "name": "python",
   "nbconvert_exporter": "python",
   "pygments_lexer": "ipython3",
   "version": "3.6.9"
  }
 },
 "nbformat": 4,
 "nbformat_minor": 2
}
