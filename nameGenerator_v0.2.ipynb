{
 "cells": [
  {
   "cell_type": "code",
   "execution_count": 1,
   "metadata": {
    "collapsed": true
   },
   "outputs": [],
   "source": [
    "import random\n",
    "import numpy"
   ]
  },
  {
   "cell_type": "code",
   "execution_count": 190,
   "metadata": {},
   "outputs": [
    {
     "name": "stdout",
     "output_type": "stream",
     "text": [
      "19\n",
      "5\n"
     ]
    }
   ],
   "source": [
    "consonants = [\"b\",\"c\",\"d\",\"f\",\"g\",\"h\",\"j\",\"k\",\"l\",\"m\",\"n\",\n",
    "              \"p\",\"r\",\"s\",\"t\",\"v\",\"w\",\"y\",\"z\"] ## removed q x \n",
    "digraphs = [\"bl\", \"br\", \"ch\", \"ck\", \"cl\", \"cr\", \"dr\", \n",
    "            \"fl\", \"fr\", \"gh\", \"gl\", \"gr\", \"ng\", \n",
    "            \"ph\", \"pl\", \"pr\", \"qu\", \"sc\", \"sh\", \n",
    "            \"sk\", \"sl\", \"sm\", \"sn\", \"sp\", \"st\", \n",
    "            \"sw\", \"th\", \"tr\", \"tw\", \"wh\", \"wr\"]\n",
    "trigraphs =[\"nth\", \"sch\", \"scr\", \"shr\", \"spl\", \"spr\", \"squ\", \"str\", \"thr\"]\n",
    "vowels = [\"a\",\"e\",\"i\",\"o\",\"u\"] ## removed 'y'\n",
    "vowelCombos = [   \"ea\",\"ei\",\"eo\",\"ee\",\"ey\",\n",
    "                  \"ae\",\"ai\",\"ay\",\"ao\",\"au\",\n",
    "                  \"oa\",\"oi\",\"ou\",\"oy\",\n",
    "                  \"ua\"]\n",
    "\n",
    "print(len(consonants))\n",
    "print(len(vowels))"
   ]
  },
  {
   "cell_type": "markdown",
   "metadata": {},
   "source": [
    "Concept: \n",
    "\n",
    "1. Create syllables\n",
    "    \n",
    "    a. list starting consonants and consonant combos\n",
    "    b. list vowels and combos\n",
    "    c. list ending consonants and combos\n",
    "\n",
    "2. combine syllables\n",
    "\n",
    "Stretch Goals:\n",
    "\n",
    "1. Add ability for user to input a segment of characters that will be used in the name. \n",
    "    ie: user input = \"terra\" output = \"terrathicus\" or \"arterran\" etc.\n",
    "    \n",
    "2. Add GUI"
   ]
  },
  {
   "cell_type": "code",
   "execution_count": 191,
   "metadata": {},
   "outputs": [
    {
     "name": "stdout",
     "output_type": "stream",
     "text": [
      "['cu', 'i', 'i']\n",
      "cuii\n"
     ]
    }
   ],
   "source": [
    "## wrap into for loop:\n",
    "number_of_syllables = 3\n",
    "\n",
    "syllables = []\n",
    "\n",
    "for i in range(0,number_of_syllables):\n",
    "\n",
    "\n",
    "    ## STEP 1 : Syllables\n",
    "\n",
    "    syllable = \"\"\n",
    "\n",
    "    ## step 1a : choose random vowel/combo\n",
    "\n",
    "    if(random.randint(1,10) < 9):\n",
    "        vowel = random.choice(vowels)\n",
    "    else:\n",
    "        vowel = random.choice(vowelCombos)\n",
    "\n",
    "    syllable += vowel\n",
    "#     print(syllable)\n",
    "\n",
    "    if(random.randint(1,2) == 1):\n",
    "\n",
    "        consonant = random.choice(consonants)\n",
    "        syllable = consonant + syllable \n",
    "\n",
    "    if(random.randint(1,5) == 1):\n",
    "        consonant = random.choice(digraphs)\n",
    "        syllable = syllable + consonant\n",
    "\n",
    "    syllables.append(syllable)\n",
    "#     print(syllable)\n",
    "\n",
    "print(syllables)\n",
    "name = \"\"\n",
    "for syllable in syllables:\n",
    "    name += syllable\n",
    "print(name)"
   ]
  },
  {
   "cell_type": "code",
   "execution_count": 285,
   "metadata": {},
   "outputs": [
    {
     "name": "stdout",
     "output_type": "stream",
     "text": [
      "ruphuj\n"
     ]
    }
   ],
   "source": [
    "## new algorithm \n",
    "## let's try starting out with consonants\n",
    "\n",
    "number_of_consonants = 4\n",
    "\n",
    "name = \"\"\n",
    "\n",
    "for i in range(0,number_of_consonants):\n",
    "    \n",
    "    name += random.choice(consonants)\n",
    "    \n",
    "    if(i == 0):\n",
    "        name += random.choice(vowels)\n",
    "    elif(0 < i < number_of_consonants - 1):\n",
    "        if(random.randint(1,10) > 2):\n",
    "            name += random.choice(vowels)\n",
    "print(name)"
   ]
  },
  {
   "cell_type": "code",
   "execution_count": null,
   "metadata": {
    "collapsed": true
   },
   "outputs": [],
   "source": [
    "\n",
    "\n"
   ]
  },
  {
   "cell_type": "code",
   "execution_count": null,
   "metadata": {
    "collapsed": true
   },
   "outputs": [],
   "source": []
  }
 ],
 "metadata": {
  "kernelspec": {
   "display_name": "Python 3",
   "language": "python",
   "name": "python3"
  },
  "language_info": {
   "codemirror_mode": {
    "name": "ipython",
    "version": 3
   },
   "file_extension": ".py",
   "mimetype": "text/x-python",
   "name": "python",
   "nbconvert_exporter": "python",
   "pygments_lexer": "ipython3",
   "version": "3.6.9"
  }
 },
 "nbformat": 4,
 "nbformat_minor": 2
}
